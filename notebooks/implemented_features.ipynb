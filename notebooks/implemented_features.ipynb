{
 "cells": [
  {
   "cell_type": "code",
   "execution_count": 1,
   "metadata": {},
   "outputs": [],
   "source": [
    "import sys\n",
    "sys.path.append('../src')"
   ]
  },
  {
   "cell_type": "code",
   "execution_count": 2,
   "metadata": {},
   "outputs": [],
   "source": [
    "import numpy as np"
   ]
  },
  {
   "cell_type": "code",
   "execution_count": 3,
   "metadata": {},
   "outputs": [],
   "source": [
    "x = np.array([1,1,1,2,2,2,5,25,1,1])"
   ]
  },
  {
   "cell_type": "markdown",
   "metadata": {},
   "source": [
    "## Min"
   ]
  },
  {
   "cell_type": "code",
   "execution_count": 4,
   "metadata": {},
   "outputs": [],
   "source": [
    "def calculate_min(signal):\n",
    "    return np.min(signal)"
   ]
  },
  {
   "cell_type": "code",
   "execution_count": 5,
   "metadata": {},
   "outputs": [
    {
     "name": "stdout",
     "output_type": "stream",
     "text": [
      "1\n"
     ]
    }
   ],
   "source": [
    "print(calculate_min(x))"
   ]
  },
  {
   "cell_type": "markdown",
   "metadata": {},
   "source": [
    "## Max"
   ]
  },
  {
   "cell_type": "code",
   "execution_count": 6,
   "metadata": {},
   "outputs": [],
   "source": [
    "def calculate_max(signal):\n",
    "    return np.max(signal)"
   ]
  },
  {
   "cell_type": "code",
   "execution_count": 7,
   "metadata": {},
   "outputs": [
    {
     "name": "stdout",
     "output_type": "stream",
     "text": [
      "25\n"
     ]
    }
   ],
   "source": [
    "print(calculate_max(x))"
   ]
  },
  {
   "cell_type": "markdown",
   "metadata": {},
   "source": [
    "## Energy\n",
    "\n",
    "$$\n",
    "Energy = \\sum_{x=x_0}^{x_0+N} y_x^2\n",
    "$$\n"
   ]
  },
  {
   "cell_type": "code",
   "execution_count": 8,
   "metadata": {},
   "outputs": [],
   "source": [
    "def calculate_energy(signal):\n",
    "    return np.sum(np.power(signal,2))"
   ]
  },
  {
   "cell_type": "code",
   "execution_count": 9,
   "metadata": {},
   "outputs": [
    {
     "name": "stdout",
     "output_type": "stream",
     "text": [
      "667\n"
     ]
    }
   ],
   "source": [
    "print(calculate_energy(x))"
   ]
  },
  {
   "cell_type": "markdown",
   "metadata": {},
   "source": [
    "## Line Length\n",
    "$$\n",
    "LineLength = \\sum_{x=x_0+1}^{x_0+N}|y_x - y_{x-1}|\n",
    "$$"
   ]
  },
  {
   "cell_type": "code",
   "execution_count": 10,
   "metadata": {},
   "outputs": [],
   "source": [
    "def calculate_line_length(signal):\n",
    "    offset_signal = signal[1:].copy()\n",
    "    return(np.sum(np.abs(offset_signal-signal[:-1])))"
   ]
  },
  {
   "cell_type": "code",
   "execution_count": 11,
   "metadata": {},
   "outputs": [
    {
     "name": "stdout",
     "output_type": "stream",
     "text": [
      "48\n"
     ]
    }
   ],
   "source": [
    "print(calculate_line_length(x))"
   ]
  },
  {
   "cell_type": "markdown",
   "metadata": {},
   "source": [
    "## Moving average\n",
    "\n",
    "$$\n",
    "MovingAverage = \\frac{1}{N}\\sum_{x=x_0}^{x_0+N}y_x\n",
    "$$\n"
   ]
  },
  {
   "cell_type": "code",
   "execution_count": 12,
   "metadata": {},
   "outputs": [],
   "source": [
    "def calculate_moving_avg(signal):\n",
    "    return np.mean(signal)"
   ]
  },
  {
   "cell_type": "code",
   "execution_count": 13,
   "metadata": {},
   "outputs": [
    {
     "name": "stdout",
     "output_type": "stream",
     "text": [
      "4.1\n"
     ]
    }
   ],
   "source": [
    "print(calculate_moving_avg(x))"
   ]
  },
  {
   "cell_type": "markdown",
   "metadata": {},
   "source": [
    "## Standard deviation\n",
    "$$\n",
    "StandardDeviation = \\frac{1}{N}\\sum_{x=x_0}^{x_0+N}(y_x-\\mu)^2\n",
    "$$\n"
   ]
  },
  {
   "cell_type": "code",
   "execution_count": 14,
   "metadata": {},
   "outputs": [],
   "source": [
    "def calculate_std(signal):\n",
    "    return np.std(signal)"
   ]
  },
  {
   "cell_type": "code",
   "execution_count": 15,
   "metadata": {},
   "outputs": [
    {
     "name": "stdout",
     "output_type": "stream",
     "text": [
      "7.063285354564121\n"
     ]
    }
   ],
   "source": [
    "print(calculate_std(x))"
   ]
  },
  {
   "cell_type": "markdown",
   "metadata": {},
   "source": [
    "## Skewness\n",
    "\n",
    "$$Skewness = \\frac{\\sqrt{N(N-1)}}{N(N-2)} g$$\n",
    "$g = \\frac{\\sum_{x=x_0}^{x_0+N} (y_x - \\mu)^3}{\\sigma^3}$"
   ]
  },
  {
   "cell_type": "code",
   "execution_count": 16,
   "metadata": {},
   "outputs": [],
   "source": [
    "def calculate_skewness(signal):\n",
    "    std = np.std(signal)\n",
    "    mean = np.mean(signal)\n",
    "    n = len(signal)\n",
    "    coeff = (n*(n-1))**0.5/(n*(n-2))\n",
    "    skewness = np.sum(np.power(signal-mean,3))/std**3\n",
    "    \n",
    "    return coeff * skewness"
   ]
  },
  {
   "cell_type": "code",
   "execution_count": 17,
   "metadata": {},
   "outputs": [
    {
     "name": "stdout",
     "output_type": "stream",
     "text": [
      "3.0129721592204315\n"
     ]
    }
   ],
   "source": [
    "print(calculate_skewness(x))"
   ]
  },
  {
   "cell_type": "markdown",
   "metadata": {},
   "source": [
    "## Kurtosis\n",
    "\n",
    "$$Kurtosis = \\frac{N-1}{(N-2)(N-3)}[(N+1) g + 6]$$\n",
    "\n",
    "$g = \\frac{\\sum_{x=x_0}^{x_0+N} (y_x - \\mu)^4}{\\sigma^2} - 3$"
   ]
  },
  {
   "cell_type": "code",
   "execution_count": 18,
   "metadata": {},
   "outputs": [],
   "source": [
    "def calculate_kurtosis(signal):\n",
    "    std = np.std(signal)\n",
    "    mean = np.mean(signal)\n",
    "    n = len(signal)\n",
    "    coeff = (n-1)/((n-2)*(n-3))\n",
    "    kurtosis = np.sum(np.power(signal-mean,4))/std**2\n",
    "    \n",
    "    return coeff*((n+1)*kurtosis + 6)"
   ]
  },
  {
   "cell_type": "code",
   "execution_count": 19,
   "metadata": {},
   "outputs": [
    {
     "name": "stdout",
     "output_type": "stream",
     "text": [
      "6780.540053474785\n"
     ]
    }
   ],
   "source": [
    "print(calculate_kurtosis(x))"
   ]
  },
  {
   "cell_type": "markdown",
   "metadata": {},
   "source": [
    "## Shannon entropy\n",
    "\n",
    "$$ShannonEntropy = - \\sum_{x=x_0}^{x_0+N} \\text{freq}(y_x) \\text{log}(\\text{freq}(y_x))  $$"
   ]
  },
  {
   "cell_type": "code",
   "execution_count": 20,
   "metadata": {},
   "outputs": [],
   "source": [
    "def calculate_shannon_entropy(signal, base=None):\n",
    "    unique, counts = np.unique(signal, return_counts=True)\n",
    "    n = len(signal)\n",
    "    frequencies = counts/n\n",
    "    return -np.sum(frequencies*np.log(frequencies))"
   ]
  },
  {
   "cell_type": "code",
   "execution_count": 21,
   "metadata": {},
   "outputs": [
    {
     "name": "stdout",
     "output_type": "stream",
     "text": [
      "1.1682824501765625\n"
     ]
    }
   ],
   "source": [
    "print(calculate_shannon_entropy(x))"
   ]
  },
  {
   "cell_type": "markdown",
   "metadata": {},
   "source": [
    "## Local Binary Patterns\n",
    "\n",
    "$$\\sum_{r=0}^{p/2^{-1}}\\left\\{S[x[i+r-P/_{2}]-x[i]]2^{r}+S[x[i+r+1]-x[i]]2^{r+P/2}\\right\\} \\tag{1}$$\n",
    "\n",
    "Taken from: [Local binary patterns for 1-D signal processing](https://ieeexplore.ieee.org/document/7096717)"
   ]
  },
  {
   "cell_type": "code",
   "execution_count": 22,
   "metadata": {},
   "outputs": [],
   "source": [
    "def calculate_lbp(signal):\n",
    "    n = len(signal)\n",
    "    middle_point = signal[n//2]\n",
    "    \n",
    "    signal = signal - middle_point\n",
    "    \n",
    "    # Thresholding\n",
    "    signal[signal>=0] = 1\n",
    "    signal[signal<0] = 0\n",
    "    \n",
    "    lbp = 0\n",
    "    for i, e in enumerate(signal):\n",
    "        if i != n//2:\n",
    "            lbp += e*2**i\n",
    "        \n",
    "    return lbp"
   ]
  },
  {
   "cell_type": "code",
   "execution_count": 23,
   "metadata": {},
   "outputs": [
    {
     "name": "stdout",
     "output_type": "stream",
     "text": [
      "216\n"
     ]
    }
   ],
   "source": [
    "print(calculate_lbp(x))"
   ]
  },
  {
   "cell_type": "markdown",
   "metadata": {},
   "source": [
    "### Phase synchrony\n",
    "\n",
    "$$PLV={1\\over N}\\sqrt{\\left(\\sum_{i=0}^{N-1}sin(\\Delta \\phi_{i})\\right)^{2}+\\left(\\sum_{i=0}^{N-1}cos(\\Delta \\phi_{i})\\right)^{2}}$$\n",
    "\n",
    "Taken from : [Phase-Synchronization Early Epileptic Seizure Detector](https://ieeexplore.ieee.org/document/6046232)\n",
    "\n",
    "Neurons initiate electrical oscillations that are contained in multiple frequency bands such as alpha (8–12 Hz), beta (13–30 Hz) and gamma (40–80 Hz) and have been linked to a wide range of cognitive and perceptual processes. It has been shown that before and during a seizure the amount of synchrony between these oscillations from neurons located in different regions of the brain changes significantly. Thus, the amount of synchrony between multiple neural signals is a strong indicator in predicting or detecting seizures. To quantify the level of synchrony between two neural signals, a phase locking value (PLV) can be computed that accurately measures the phase-synchronization between two signal sites in the brain."
   ]
  },
  {
   "cell_type": "code",
   "execution_count": 24,
   "metadata": {},
   "outputs": [],
   "source": [
    "import scipy.signal as sig\n",
    "\n",
    "def calculate_phase_synchrony(y1,y2):\n",
    "    sig1_hill=sig.hilbert(y1)\n",
    "    sig2_hill=sig.hilbert(y2)\n",
    "    phase_y1=np.unwrap(np.angle(sig1_hill))\n",
    "    phase_y2=np.unwrap(np.angle(sig2_hill))\n",
    "    inst_phase_diff=phase_y1-phase_y2\n",
    "    n = len(inst_phase_diff)\n",
    "    \n",
    "    sin_sum = np.sum(np.sin(inst_phase_diff))\n",
    "    cos_sum = np.sum(np.cos(inst_phase_diff))\n",
    "    \n",
    "    return (1/n)*np.sqrt(np.power(sin_sum,2) + np.power(cos_sum,2))"
   ]
  },
  {
   "cell_type": "code",
   "execution_count": 25,
   "metadata": {},
   "outputs": [
    {
     "data": {
      "text/plain": [
       "0.13353001612654147"
      ]
     },
     "execution_count": 25,
     "metadata": {},
     "output_type": "execute_result"
    }
   ],
   "source": [
    "inverted_x = x[::-1]\n",
    "calculate_phase_synchrony(x,inverted_x)"
   ]
  }
 ],
 "metadata": {
  "kernelspec": {
   "display_name": "Python 3",
   "language": "python",
   "name": "python3"
  },
  "language_info": {
   "codemirror_mode": {
    "name": "ipython",
    "version": 3
   },
   "file_extension": ".py",
   "mimetype": "text/x-python",
   "name": "python",
   "nbconvert_exporter": "python",
   "pygments_lexer": "ipython3",
   "version": "3.7.3"
  }
 },
 "nbformat": 4,
 "nbformat_minor": 4
}
