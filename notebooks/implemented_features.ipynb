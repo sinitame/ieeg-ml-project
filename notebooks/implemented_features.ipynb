{
 "cells": [
  {
   "cell_type": "code",
   "execution_count": 1,
   "metadata": {},
   "outputs": [],
   "source": [
    "import sys\n",
    "sys.path.append('../src')"
   ]
  },
  {
   "cell_type": "code",
   "execution_count": 2,
   "metadata": {},
   "outputs": [],
   "source": [
    "import numpy as np"
   ]
  },
  {
   "cell_type": "code",
   "execution_count": 3,
   "metadata": {},
   "outputs": [],
   "source": [
    "x = np.array([1,1,1,2,2,2,5,25,1,1])"
   ]
  },
  {
   "cell_type": "markdown",
   "metadata": {},
   "source": [
    "## Min"
   ]
  },
  {
   "cell_type": "code",
   "execution_count": 4,
   "metadata": {},
   "outputs": [],
   "source": [
    "def calculate_min(signal):\n",
    "    return np.min(signal)"
   ]
  },
  {
   "cell_type": "code",
   "execution_count": 5,
   "metadata": {},
   "outputs": [
    {
     "name": "stdout",
     "output_type": "stream",
     "text": [
      "1\n"
     ]
    }
   ],
   "source": [
    "print(calculate_min(x))"
   ]
  },
  {
   "cell_type": "markdown",
   "metadata": {},
   "source": [
    "## Max"
   ]
  },
  {
   "cell_type": "code",
   "execution_count": 6,
   "metadata": {},
   "outputs": [],
   "source": [
    "def calculate_max(signal):\n",
    "    return np.max(signal)"
   ]
  },
  {
   "cell_type": "code",
   "execution_count": 7,
   "metadata": {},
   "outputs": [
    {
     "name": "stdout",
     "output_type": "stream",
     "text": [
      "25\n"
     ]
    }
   ],
   "source": [
    "print(calculate_max(x))"
   ]
  },
  {
   "cell_type": "markdown",
   "metadata": {},
   "source": [
    "## Energy\n",
    "\n",
    "$$\n",
    "Energy = \\sum_{x=x_0}^{x_0+N} y_x^2\n",
    "$$\n"
   ]
  },
  {
   "cell_type": "code",
   "execution_count": 8,
   "metadata": {},
   "outputs": [],
   "source": [
    "def calculate_energy(signal):\n",
    "    return np.sum(np.power(signal,2))"
   ]
  },
  {
   "cell_type": "code",
   "execution_count": 9,
   "metadata": {},
   "outputs": [
    {
     "name": "stdout",
     "output_type": "stream",
     "text": [
      "667\n"
     ]
    }
   ],
   "source": [
    "print(calculate_energy(x))"
   ]
  },
  {
   "cell_type": "markdown",
   "metadata": {},
   "source": [
    "## Line Length\n",
    "$$\n",
    "LineLength = \\sum_{x=x_0+1}^{x_0+N}|y_x - y_{x-1}|\n",
    "$$"
   ]
  },
  {
   "cell_type": "code",
   "execution_count": 10,
   "metadata": {},
   "outputs": [],
   "source": [
    "def calculate_line_length(signal):\n",
    "    offset_signal = signal[1:].copy()\n",
    "    return(np.sum(np.abs(offset_signal-signal[:-1])))"
   ]
  },
  {
   "cell_type": "code",
   "execution_count": 11,
   "metadata": {},
   "outputs": [
    {
     "name": "stdout",
     "output_type": "stream",
     "text": [
      "48\n"
     ]
    }
   ],
   "source": [
    "print(calculate_line_length(x))"
   ]
  },
  {
   "cell_type": "markdown",
   "metadata": {},
   "source": [
    "## Moving average\n",
    "\n",
    "$$\n",
    "MovingAverage = \\frac{1}{N}\\sum_{x=x_0}^{x_0+N}y_x\n",
    "$$\n"
   ]
  },
  {
   "cell_type": "code",
   "execution_count": 12,
   "metadata": {},
   "outputs": [],
   "source": [
    "def calculate_moving_avg(signal):\n",
    "    return np.mean(signal)"
   ]
  },
  {
   "cell_type": "code",
   "execution_count": 13,
   "metadata": {},
   "outputs": [
    {
     "name": "stdout",
     "output_type": "stream",
     "text": [
      "4.1\n"
     ]
    }
   ],
   "source": [
    "print(calculate_moving_avg(x))"
   ]
  },
  {
   "cell_type": "markdown",
   "metadata": {},
   "source": [
    "## Standard deviation\n",
    "$$\n",
    "StandardDeviation = \\frac{1}{N}\\sum_{x=x_0}^{x_0+N}(y_x-\\mu)^2\n",
    "$$\n"
   ]
  },
  {
   "cell_type": "code",
   "execution_count": 14,
   "metadata": {},
   "outputs": [],
   "source": [
    "def calculate_std(signal):\n",
    "    return np.std(signal)"
   ]
  },
  {
   "cell_type": "code",
   "execution_count": 15,
   "metadata": {},
   "outputs": [
    {
     "name": "stdout",
     "output_type": "stream",
     "text": [
      "7.063285354564121\n"
     ]
    }
   ],
   "source": [
    "print(calculate_std(x))"
   ]
  },
  {
   "cell_type": "markdown",
   "metadata": {},
   "source": [
    "## Skewness\n",
    "\n",
    "$$Skewness = \\frac{\\sqrt{N(N-1)}}{N(N-2)} g$$\n",
    "$g = \\frac{\\sum_{x=x_0}^{x_0+N} (y_x - \\mu)^3}{\\sigma^3}$"
   ]
  },
  {
   "cell_type": "code",
   "execution_count": 16,
   "metadata": {},
   "outputs": [],
   "source": [
    "def calculate_skewness(signal):\n",
    "    std = np.std(signal)\n",
    "    mean = np.mean(signal)\n",
    "    n = len(signal)\n",
    "    coeff = (n*(n-1))**0.5/(n*(n-2))\n",
    "    skewness = np.sum(np.power(signal-mean,3))/std**3\n",
    "    \n",
    "    return coeff * skewness"
   ]
  },
  {
   "cell_type": "code",
   "execution_count": 17,
   "metadata": {},
   "outputs": [
    {
     "name": "stdout",
     "output_type": "stream",
     "text": [
      "3.0129721592204315\n"
     ]
    }
   ],
   "source": [
    "print(calculate_skewness(x))"
   ]
  },
  {
   "cell_type": "markdown",
   "metadata": {},
   "source": [
    "## Kurtosis\n",
    "\n",
    "$$Kurtosis = \\frac{N-1}{(N-2)(N-3)}[(N+1) g + 6]$$\n",
    "\n",
    "$g = \\frac{\\sum_{x=x_0}^{x_0+N} (y_x - \\mu)^4}{\\sigma^2} - 3$"
   ]
  },
  {
   "cell_type": "code",
   "execution_count": 18,
   "metadata": {},
   "outputs": [],
   "source": [
    "def calculate_kurtosis(signal):\n",
    "    std = np.std(signal)\n",
    "    mean = np.mean(signal)\n",
    "    n = len(signal)\n",
    "    coeff = (n-1)/((n-2)*(n-3))\n",
    "    kurtosis = np.sum(np.power(signal-mean,4))/std**2\n",
    "    \n",
    "    return coeff*((n+1)*kurtosis + 6)"
   ]
  },
  {
   "cell_type": "code",
   "execution_count": 19,
   "metadata": {},
   "outputs": [
    {
     "name": "stdout",
     "output_type": "stream",
     "text": [
      "6780.540053474785\n"
     ]
    }
   ],
   "source": [
    "print(calculate_kurtosis(x))"
   ]
  },
  {
   "cell_type": "markdown",
   "metadata": {},
   "source": [
    "## Shannon entropy\n",
    "\n",
    "$$ShannonEntropy = \\sum_{x=x_0}^{x_0+N} \\text{freq}(y_x) \\text{log}(\\text{freq}(y_x))  $$"
   ]
  },
  {
   "cell_type": "code",
   "execution_count": 20,
   "metadata": {},
   "outputs": [],
   "source": [
    "def calculate_shannon_entropy(signal):\n",
    "    unique, counts = np.unique(signal, return_counts=True)\n",
    "    occurences = dict(zip(unique, counts))\n",
    "    n = len(unique)\n",
    "    frequencies = np.array([occurences[i] for i in signal])/n\n",
    "    return np.sum(frequencies*np.log(frequencies))"
   ]
  },
  {
   "cell_type": "code",
   "execution_count": 21,
   "metadata": {},
   "outputs": [
    {
     "name": "stdout",
     "output_type": "stream",
     "text": [
      "0.05421535213735873\n"
     ]
    }
   ],
   "source": [
    "print(calculate_shannon_entropy(x))"
   ]
  }
 ],
 "metadata": {
  "kernelspec": {
   "display_name": "Python 3",
   "language": "python",
   "name": "python3"
  },
  "language_info": {
   "codemirror_mode": {
    "name": "ipython",
    "version": 3
   },
   "file_extension": ".py",
   "mimetype": "text/x-python",
   "name": "python",
   "nbconvert_exporter": "python",
   "pygments_lexer": "ipython3",
   "version": "3.7.3"
  }
 },
 "nbformat": 4,
 "nbformat_minor": 4
}
